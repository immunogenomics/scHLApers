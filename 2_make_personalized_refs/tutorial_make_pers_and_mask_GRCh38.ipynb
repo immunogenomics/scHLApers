{
 "cells": [
  {
   "cell_type": "markdown",
   "id": "9aa85694-1ce3-46f3-9f53-637376672f5c",
   "metadata": {},
   "source": [
    "# Make personalized HLA reference and mask the original reference\n",
    "\n",
    "This tutorial walks through how to create personalized FASTA and GTF files for the HLA genes per sample, and how to create a masked version of the GRCh38 reference.\n",
    "\n",
    "To run these steps, you need to download the GRCh38 reference and Gencode GTF file (we use v38).\n",
    "\n",
    "\n",
    "Written by Amber Shen & Joyce Kang\n",
    "\n",
    "Last updated Feb 16, 2023"
   ]
  },
  {
   "cell_type": "code",
   "execution_count": 1,
   "id": "6d0e7420-2918-4711-aa78-85b19fe98551",
   "metadata": {},
   "outputs": [],
   "source": [
    "suppressPackageStartupMessages({\n",
    "    library(rtracklayer)\n",
    "    library(Biostrings)\n",
    "    library(dplyr)\n",
    "    library(stringr)\n",
    "    library(tidyverse)\n",
    "})"
   ]
  },
  {
   "cell_type": "markdown",
   "id": "ba25e11e-acd4-4b7b-bd86-208b947684a8",
   "metadata": {},
   "source": [
    "## Make personalized FASTA and GTF files"
   ]
  },
  {
   "cell_type": "code",
   "execution_count": 2,
   "id": "76746a1b-cc65-4cfd-b95c-2313ed26ce8c",
   "metadata": {},
   "outputs": [],
   "source": [
    "source('make_pers_utils.R') # Functions to make personalized genomes and annotations"
   ]
  },
  {
   "cell_type": "markdown",
   "id": "5db0e761-6113-4760-8ed4-9e04484fa6a8",
   "metadata": {},
   "source": [
    "Read in IMGT allele database"
   ]
  },
  {
   "cell_type": "code",
   "execution_count": 3,
   "id": "934ce3e6-3aa0-4a6d-9ea9-5c1fa7a76a76",
   "metadata": {},
   "outputs": [],
   "source": [
    "sequence_database_path = '../1_make_HLA_database/IMGTHLA_all_alleles_FINAL.fa'\n",
    "database = Biostrings::readDNAStringSet(sequence_database_path)\n",
    "formatted_database_names = lapply(names(database), format_allele)"
   ]
  },
  {
   "cell_type": "markdown",
   "id": "e1551c61-3b80-496c-80bf-5ceac4674a23",
   "metadata": {},
   "source": [
    "Examine the database"
   ]
  },
  {
   "cell_type": "code",
   "execution_count": 4,
   "id": "dd548c9c-57d9-49e2-8a22-fc80d1b50e40",
   "metadata": {},
   "outputs": [
    {
     "data": {
      "text/plain": [
       "DNAStringSet object of length 26573:\n",
       "        width seq                                           names               \n",
       "    [1]  4626 \u001b[47m\u001b[30mA\u001b[39m\u001b[49m\u001b[47m\u001b[30mA\u001b[39m\u001b[49m\u001b[47m\u001b[30mG\u001b[39m\u001b[49m\u001b[47m\u001b[30mG\u001b[39m\u001b[49m\u001b[47m\u001b[30mG\u001b[39m\u001b[49m\u001b[47m\u001b[30mG\u001b[39m\u001b[49m\u001b[47m\u001b[30mA\u001b[39m\u001b[49m\u001b[47m\u001b[30mG\u001b[39m\u001b[49m\u001b[47m\u001b[30mA\u001b[39m\u001b[49m\u001b[47m\u001b[30mG\u001b[39m\u001b[49m\u001b[47m\u001b[30mG\u001b[39m\u001b[49m\u001b[47m\u001b[30mA\u001b[39m\u001b[49m\u001b[47m\u001b[30mG\u001b[39m\u001b[49m\u001b[47m\u001b[30mG\u001b[39m\u001b[49m\u001b[47m\u001b[30mG\u001b[39m\u001b[49m\u001b[47m\u001b[30mC\u001b[39m\u001b[49m\u001b[47m\u001b[30mC\u001b[39m\u001b[49m\u001b[47m\u001b[30mT\u001b[39m\u001b[49m\u001b[47m\u001b[30mG\u001b[39m\u001b[49m\u001b[47m\u001b[30mA\u001b[39m\u001b[49m\u001b[47m\u001b[30mA\u001b[39m\u001b[49m...\u001b[47m\u001b[30mA\u001b[39m\u001b[49m\u001b[47m\u001b[30mT\u001b[39m\u001b[49m\u001b[47m\u001b[30mG\u001b[39m\u001b[49m\u001b[47m\u001b[30mA\u001b[39m\u001b[49m\u001b[47m\u001b[30mG\u001b[39m\u001b[49m\u001b[47m\u001b[30mA\u001b[39m\u001b[49m\u001b[47m\u001b[30mA\u001b[39m\u001b[49m\u001b[47m\u001b[30mC\u001b[39m\u001b[49m\u001b[47m\u001b[30mC\u001b[39m\u001b[49m\u001b[47m\u001b[30mT\u001b[39m\u001b[49m\u001b[47m\u001b[30mT\u001b[39m\u001b[49m\u001b[47m\u001b[30mC\u001b[39m\u001b[49m\u001b[47m\u001b[30mC\u001b[39m\u001b[49m\u001b[47m\u001b[30mA\u001b[39m\u001b[49m\u001b[47m\u001b[30mG\u001b[39m\u001b[49m\u001b[47m\u001b[30mA\u001b[39m\u001b[49m\u001b[47m\u001b[30mG\u001b[39m\u001b[49m\u001b[47m\u001b[30mT\u001b[39m\u001b[49m\u001b[47m\u001b[30mC\u001b[39m\u001b[49m\u001b[47m\u001b[30mC\u001b[39m\u001b[49m\u001b[47m\u001b[30mA\u001b[39m\u001b[49m IMGT_A*01:01:01:01\n",
       "    [2]  4626 \u001b[47m\u001b[30mA\u001b[39m\u001b[49m\u001b[47m\u001b[30mA\u001b[39m\u001b[49m\u001b[47m\u001b[30mG\u001b[39m\u001b[49m\u001b[47m\u001b[30mG\u001b[39m\u001b[49m\u001b[47m\u001b[30mG\u001b[39m\u001b[49m\u001b[47m\u001b[30mG\u001b[39m\u001b[49m\u001b[47m\u001b[30mA\u001b[39m\u001b[49m\u001b[47m\u001b[30mG\u001b[39m\u001b[49m\u001b[47m\u001b[30mA\u001b[39m\u001b[49m\u001b[47m\u001b[30mG\u001b[39m\u001b[49m\u001b[47m\u001b[30mG\u001b[39m\u001b[49m\u001b[47m\u001b[30mA\u001b[39m\u001b[49m\u001b[47m\u001b[30mG\u001b[39m\u001b[49m\u001b[47m\u001b[30mG\u001b[39m\u001b[49m\u001b[47m\u001b[30mG\u001b[39m\u001b[49m\u001b[47m\u001b[30mC\u001b[39m\u001b[49m\u001b[47m\u001b[30mC\u001b[39m\u001b[49m\u001b[47m\u001b[30mT\u001b[39m\u001b[49m\u001b[47m\u001b[30mG\u001b[39m\u001b[49m\u001b[47m\u001b[30mA\u001b[39m\u001b[49m\u001b[47m\u001b[30mA\u001b[39m\u001b[49m...\u001b[47m\u001b[30mA\u001b[39m\u001b[49m\u001b[47m\u001b[30mT\u001b[39m\u001b[49m\u001b[47m\u001b[30mG\u001b[39m\u001b[49m\u001b[47m\u001b[30mA\u001b[39m\u001b[49m\u001b[47m\u001b[30mG\u001b[39m\u001b[49m\u001b[47m\u001b[30mA\u001b[39m\u001b[49m\u001b[47m\u001b[30mA\u001b[39m\u001b[49m\u001b[47m\u001b[30mC\u001b[39m\u001b[49m\u001b[47m\u001b[30mC\u001b[39m\u001b[49m\u001b[47m\u001b[30mT\u001b[39m\u001b[49m\u001b[47m\u001b[30mT\u001b[39m\u001b[49m\u001b[47m\u001b[30mC\u001b[39m\u001b[49m\u001b[47m\u001b[30mC\u001b[39m\u001b[49m\u001b[47m\u001b[30mA\u001b[39m\u001b[49m\u001b[47m\u001b[30mG\u001b[39m\u001b[49m\u001b[47m\u001b[30mA\u001b[39m\u001b[49m\u001b[47m\u001b[30mG\u001b[39m\u001b[49m\u001b[47m\u001b[30mT\u001b[39m\u001b[49m\u001b[47m\u001b[30mC\u001b[39m\u001b[49m\u001b[47m\u001b[30mC\u001b[39m\u001b[49m\u001b[47m\u001b[30mA\u001b[39m\u001b[49m IMGT_A*01:01:01:03\n",
       "    [3]  4626 \u001b[47m\u001b[30mA\u001b[39m\u001b[49m\u001b[47m\u001b[30mA\u001b[39m\u001b[49m\u001b[47m\u001b[30mG\u001b[39m\u001b[49m\u001b[47m\u001b[30mG\u001b[39m\u001b[49m\u001b[47m\u001b[30mG\u001b[39m\u001b[49m\u001b[47m\u001b[30mG\u001b[39m\u001b[49m\u001b[47m\u001b[30mA\u001b[39m\u001b[49m\u001b[47m\u001b[30mG\u001b[39m\u001b[49m\u001b[47m\u001b[30mA\u001b[39m\u001b[49m\u001b[47m\u001b[30mG\u001b[39m\u001b[49m\u001b[47m\u001b[30mG\u001b[39m\u001b[49m\u001b[47m\u001b[30mA\u001b[39m\u001b[49m\u001b[47m\u001b[30mG\u001b[39m\u001b[49m\u001b[47m\u001b[30mG\u001b[39m\u001b[49m\u001b[47m\u001b[30mG\u001b[39m\u001b[49m\u001b[47m\u001b[30mC\u001b[39m\u001b[49m\u001b[47m\u001b[30mC\u001b[39m\u001b[49m\u001b[47m\u001b[30mT\u001b[39m\u001b[49m\u001b[47m\u001b[30mG\u001b[39m\u001b[49m\u001b[47m\u001b[30mA\u001b[39m\u001b[49m\u001b[47m\u001b[30mA\u001b[39m\u001b[49m...\u001b[47m\u001b[30mA\u001b[39m\u001b[49m\u001b[47m\u001b[30mT\u001b[39m\u001b[49m\u001b[47m\u001b[30mG\u001b[39m\u001b[49m\u001b[47m\u001b[30mA\u001b[39m\u001b[49m\u001b[47m\u001b[30mG\u001b[39m\u001b[49m\u001b[47m\u001b[30mA\u001b[39m\u001b[49m\u001b[47m\u001b[30mA\u001b[39m\u001b[49m\u001b[47m\u001b[30mC\u001b[39m\u001b[49m\u001b[47m\u001b[30mC\u001b[39m\u001b[49m\u001b[47m\u001b[30mT\u001b[39m\u001b[49m\u001b[47m\u001b[30mT\u001b[39m\u001b[49m\u001b[47m\u001b[30mC\u001b[39m\u001b[49m\u001b[47m\u001b[30mC\u001b[39m\u001b[49m\u001b[47m\u001b[30mA\u001b[39m\u001b[49m\u001b[47m\u001b[30mG\u001b[39m\u001b[49m\u001b[47m\u001b[30mA\u001b[39m\u001b[49m\u001b[47m\u001b[30mG\u001b[39m\u001b[49m\u001b[47m\u001b[30mT\u001b[39m\u001b[49m\u001b[47m\u001b[30mC\u001b[39m\u001b[49m\u001b[47m\u001b[30mC\u001b[39m\u001b[49m\u001b[47m\u001b[30mA\u001b[39m\u001b[49m IMGT_A*01:01:01:04\n",
       "    [4]  4626 \u001b[47m\u001b[30mA\u001b[39m\u001b[49m\u001b[47m\u001b[30mA\u001b[39m\u001b[49m\u001b[47m\u001b[30mG\u001b[39m\u001b[49m\u001b[47m\u001b[30mG\u001b[39m\u001b[49m\u001b[47m\u001b[30mG\u001b[39m\u001b[49m\u001b[47m\u001b[30mG\u001b[39m\u001b[49m\u001b[47m\u001b[30mA\u001b[39m\u001b[49m\u001b[47m\u001b[30mG\u001b[39m\u001b[49m\u001b[47m\u001b[30mA\u001b[39m\u001b[49m\u001b[47m\u001b[30mG\u001b[39m\u001b[49m\u001b[47m\u001b[30mG\u001b[39m\u001b[49m\u001b[47m\u001b[30mA\u001b[39m\u001b[49m\u001b[47m\u001b[30mG\u001b[39m\u001b[49m\u001b[47m\u001b[30mG\u001b[39m\u001b[49m\u001b[47m\u001b[30mG\u001b[39m\u001b[49m\u001b[47m\u001b[30mC\u001b[39m\u001b[49m\u001b[47m\u001b[30mC\u001b[39m\u001b[49m\u001b[47m\u001b[30mT\u001b[39m\u001b[49m\u001b[47m\u001b[30mG\u001b[39m\u001b[49m\u001b[47m\u001b[30mA\u001b[39m\u001b[49m\u001b[47m\u001b[30mA\u001b[39m\u001b[49m...\u001b[47m\u001b[30mA\u001b[39m\u001b[49m\u001b[47m\u001b[30mT\u001b[39m\u001b[49m\u001b[47m\u001b[30mG\u001b[39m\u001b[49m\u001b[47m\u001b[30mA\u001b[39m\u001b[49m\u001b[47m\u001b[30mG\u001b[39m\u001b[49m\u001b[47m\u001b[30mA\u001b[39m\u001b[49m\u001b[47m\u001b[30mA\u001b[39m\u001b[49m\u001b[47m\u001b[30mC\u001b[39m\u001b[49m\u001b[47m\u001b[30mC\u001b[39m\u001b[49m\u001b[47m\u001b[30mT\u001b[39m\u001b[49m\u001b[47m\u001b[30mT\u001b[39m\u001b[49m\u001b[47m\u001b[30mC\u001b[39m\u001b[49m\u001b[47m\u001b[30mC\u001b[39m\u001b[49m\u001b[47m\u001b[30mA\u001b[39m\u001b[49m\u001b[47m\u001b[30mG\u001b[39m\u001b[49m\u001b[47m\u001b[30mA\u001b[39m\u001b[49m\u001b[47m\u001b[30mG\u001b[39m\u001b[49m\u001b[47m\u001b[30mT\u001b[39m\u001b[49m\u001b[47m\u001b[30mC\u001b[39m\u001b[49m\u001b[47m\u001b[30mC\u001b[39m\u001b[49m\u001b[47m\u001b[30mA\u001b[39m\u001b[49m IMGT_A*01:01:01:05\n",
       "    [5]  4626 \u001b[47m\u001b[30mA\u001b[39m\u001b[49m\u001b[47m\u001b[30mA\u001b[39m\u001b[49m\u001b[47m\u001b[30mG\u001b[39m\u001b[49m\u001b[47m\u001b[30mG\u001b[39m\u001b[49m\u001b[47m\u001b[30mG\u001b[39m\u001b[49m\u001b[47m\u001b[30mG\u001b[39m\u001b[49m\u001b[47m\u001b[30mA\u001b[39m\u001b[49m\u001b[47m\u001b[30mG\u001b[39m\u001b[49m\u001b[47m\u001b[30mA\u001b[39m\u001b[49m\u001b[47m\u001b[30mG\u001b[39m\u001b[49m\u001b[47m\u001b[30mG\u001b[39m\u001b[49m\u001b[47m\u001b[30mA\u001b[39m\u001b[49m\u001b[47m\u001b[30mG\u001b[39m\u001b[49m\u001b[47m\u001b[30mG\u001b[39m\u001b[49m\u001b[47m\u001b[30mG\u001b[39m\u001b[49m\u001b[47m\u001b[30mC\u001b[39m\u001b[49m\u001b[47m\u001b[30mC\u001b[39m\u001b[49m\u001b[47m\u001b[30mT\u001b[39m\u001b[49m\u001b[47m\u001b[30mG\u001b[39m\u001b[49m\u001b[47m\u001b[30mA\u001b[39m\u001b[49m\u001b[47m\u001b[30mA\u001b[39m\u001b[49m...\u001b[47m\u001b[30mA\u001b[39m\u001b[49m\u001b[47m\u001b[30mT\u001b[39m\u001b[49m\u001b[47m\u001b[30mG\u001b[39m\u001b[49m\u001b[47m\u001b[30mA\u001b[39m\u001b[49m\u001b[47m\u001b[30mG\u001b[39m\u001b[49m\u001b[47m\u001b[30mA\u001b[39m\u001b[49m\u001b[47m\u001b[30mA\u001b[39m\u001b[49m\u001b[47m\u001b[30mC\u001b[39m\u001b[49m\u001b[47m\u001b[30mC\u001b[39m\u001b[49m\u001b[47m\u001b[30mT\u001b[39m\u001b[49m\u001b[47m\u001b[30mT\u001b[39m\u001b[49m\u001b[47m\u001b[30mC\u001b[39m\u001b[49m\u001b[47m\u001b[30mC\u001b[39m\u001b[49m\u001b[47m\u001b[30mA\u001b[39m\u001b[49m\u001b[47m\u001b[30mG\u001b[39m\u001b[49m\u001b[47m\u001b[30mA\u001b[39m\u001b[49m\u001b[47m\u001b[30mG\u001b[39m\u001b[49m\u001b[47m\u001b[30mT\u001b[39m\u001b[49m\u001b[47m\u001b[30mC\u001b[39m\u001b[49m\u001b[47m\u001b[30mC\u001b[39m\u001b[49m\u001b[47m\u001b[30mA\u001b[39m\u001b[49m IMGT_A*01:01:01:06\n",
       "    ...   ... ...\n",
       "[26569] 11548 \u001b[47m\u001b[30mG\u001b[39m\u001b[49m\u001b[47m\u001b[30mC\u001b[39m\u001b[49m\u001b[47m\u001b[30mA\u001b[39m\u001b[49m\u001b[47m\u001b[30mT\u001b[39m\u001b[49m\u001b[47m\u001b[30mC\u001b[39m\u001b[49m\u001b[47m\u001b[30mC\u001b[39m\u001b[49m\u001b[47m\u001b[30mA\u001b[39m\u001b[49m\u001b[47m\u001b[30mC\u001b[39m\u001b[49m\u001b[47m\u001b[30mA\u001b[39m\u001b[49m\u001b[47m\u001b[30mG\u001b[39m\u001b[49m\u001b[47m\u001b[30mA\u001b[39m\u001b[49m\u001b[47m\u001b[30mA\u001b[39m\u001b[49m\u001b[47m\u001b[30mT\u001b[39m\u001b[49m\u001b[47m\u001b[30mC\u001b[39m\u001b[49m\u001b[47m\u001b[30mA\u001b[39m\u001b[49m\u001b[47m\u001b[30mC\u001b[39m\u001b[49m\u001b[47m\u001b[30mA\u001b[39m\u001b[49m\u001b[47m\u001b[30mT\u001b[39m\u001b[49m\u001b[47m\u001b[30mT\u001b[39m\u001b[49m\u001b[47m\u001b[30mT\u001b[39m\u001b[49m\u001b[47m\u001b[30mT\u001b[39m\u001b[49m...\u001b[47m\u001b[30mT\u001b[39m\u001b[49m\u001b[47m\u001b[30mT\u001b[39m\u001b[49m\u001b[47m\u001b[30mT\u001b[39m\u001b[49m\u001b[47m\u001b[30mC\u001b[39m\u001b[49m\u001b[47m\u001b[30mT\u001b[39m\u001b[49m\u001b[47m\u001b[30mC\u001b[39m\u001b[49m\u001b[47m\u001b[30mA\u001b[39m\u001b[49m\u001b[47m\u001b[30mA\u001b[39m\u001b[49m\u001b[47m\u001b[30mA\u001b[39m\u001b[49m\u001b[47m\u001b[30mG\u001b[39m\u001b[49m\u001b[47m\u001b[30mA\u001b[39m\u001b[49m\u001b[47m\u001b[30mT\u001b[39m\u001b[49m\u001b[47m\u001b[30mG\u001b[39m\u001b[49m\u001b[47m\u001b[30mG\u001b[39m\u001b[49m\u001b[47m\u001b[30mA\u001b[39m\u001b[49m\u001b[47m\u001b[30mG\u001b[39m\u001b[49m\u001b[47m\u001b[30mT\u001b[39m\u001b[49m\u001b[47m\u001b[30mT\u001b[39m\u001b[49m\u001b[47m\u001b[30mA\u001b[39m\u001b[49m\u001b[47m\u001b[30mA\u001b[39m\u001b[49m\u001b[47m\u001b[30mA\u001b[39m\u001b[49m IMGT_DRB1*16:66:m...\n",
       "[26570] 11548 \u001b[47m\u001b[30mG\u001b[39m\u001b[49m\u001b[47m\u001b[30mC\u001b[39m\u001b[49m\u001b[47m\u001b[30mA\u001b[39m\u001b[49m\u001b[47m\u001b[30mT\u001b[39m\u001b[49m\u001b[47m\u001b[30mC\u001b[39m\u001b[49m\u001b[47m\u001b[30mC\u001b[39m\u001b[49m\u001b[47m\u001b[30mA\u001b[39m\u001b[49m\u001b[47m\u001b[30mC\u001b[39m\u001b[49m\u001b[47m\u001b[30mA\u001b[39m\u001b[49m\u001b[47m\u001b[30mG\u001b[39m\u001b[49m\u001b[47m\u001b[30mA\u001b[39m\u001b[49m\u001b[47m\u001b[30mA\u001b[39m\u001b[49m\u001b[47m\u001b[30mT\u001b[39m\u001b[49m\u001b[47m\u001b[30mC\u001b[39m\u001b[49m\u001b[47m\u001b[30mA\u001b[39m\u001b[49m\u001b[47m\u001b[30mC\u001b[39m\u001b[49m\u001b[47m\u001b[30mA\u001b[39m\u001b[49m\u001b[47m\u001b[30mT\u001b[39m\u001b[49m\u001b[47m\u001b[30mT\u001b[39m\u001b[49m\u001b[47m\u001b[30mT\u001b[39m\u001b[49m\u001b[47m\u001b[30mT\u001b[39m\u001b[49m...\u001b[47m\u001b[30mT\u001b[39m\u001b[49m\u001b[47m\u001b[30mT\u001b[39m\u001b[49m\u001b[47m\u001b[30mT\u001b[39m\u001b[49m\u001b[47m\u001b[30mC\u001b[39m\u001b[49m\u001b[47m\u001b[30mT\u001b[39m\u001b[49m\u001b[47m\u001b[30mC\u001b[39m\u001b[49m\u001b[47m\u001b[30mA\u001b[39m\u001b[49m\u001b[47m\u001b[30mA\u001b[39m\u001b[49m\u001b[47m\u001b[30mA\u001b[39m\u001b[49m\u001b[47m\u001b[30mG\u001b[39m\u001b[49m\u001b[47m\u001b[30mA\u001b[39m\u001b[49m\u001b[47m\u001b[30mT\u001b[39m\u001b[49m\u001b[47m\u001b[30mG\u001b[39m\u001b[49m\u001b[47m\u001b[30mG\u001b[39m\u001b[49m\u001b[47m\u001b[30mA\u001b[39m\u001b[49m\u001b[47m\u001b[30mG\u001b[39m\u001b[49m\u001b[47m\u001b[30mT\u001b[39m\u001b[49m\u001b[47m\u001b[30mT\u001b[39m\u001b[49m\u001b[47m\u001b[30mA\u001b[39m\u001b[49m\u001b[47m\u001b[30mA\u001b[39m\u001b[49m\u001b[47m\u001b[30mA\u001b[39m\u001b[49m IMGT_DRB1*16:67:m...\n",
       "[26571] 11547 \u001b[47m\u001b[30mG\u001b[39m\u001b[49m\u001b[47m\u001b[30mC\u001b[39m\u001b[49m\u001b[47m\u001b[30mA\u001b[39m\u001b[49m\u001b[47m\u001b[30mT\u001b[39m\u001b[49m\u001b[47m\u001b[30mC\u001b[39m\u001b[49m\u001b[47m\u001b[30mC\u001b[39m\u001b[49m\u001b[47m\u001b[30mA\u001b[39m\u001b[49m\u001b[47m\u001b[30mC\u001b[39m\u001b[49m\u001b[47m\u001b[30mA\u001b[39m\u001b[49m\u001b[47m\u001b[30mG\u001b[39m\u001b[49m\u001b[47m\u001b[30mA\u001b[39m\u001b[49m\u001b[47m\u001b[30mA\u001b[39m\u001b[49m\u001b[47m\u001b[30mT\u001b[39m\u001b[49m\u001b[47m\u001b[30mC\u001b[39m\u001b[49m\u001b[47m\u001b[30mA\u001b[39m\u001b[49m\u001b[47m\u001b[30mC\u001b[39m\u001b[49m\u001b[47m\u001b[30mA\u001b[39m\u001b[49m\u001b[47m\u001b[30mT\u001b[39m\u001b[49m\u001b[47m\u001b[30mT\u001b[39m\u001b[49m\u001b[47m\u001b[30mT\u001b[39m\u001b[49m\u001b[47m\u001b[30mT\u001b[39m\u001b[49m...\u001b[47m\u001b[30mT\u001b[39m\u001b[49m\u001b[47m\u001b[30mT\u001b[39m\u001b[49m\u001b[47m\u001b[30mT\u001b[39m\u001b[49m\u001b[47m\u001b[30mC\u001b[39m\u001b[49m\u001b[47m\u001b[30mT\u001b[39m\u001b[49m\u001b[47m\u001b[30mC\u001b[39m\u001b[49m\u001b[47m\u001b[30mA\u001b[39m\u001b[49m\u001b[47m\u001b[30mA\u001b[39m\u001b[49m\u001b[47m\u001b[30mA\u001b[39m\u001b[49m\u001b[47m\u001b[30mG\u001b[39m\u001b[49m\u001b[47m\u001b[30mA\u001b[39m\u001b[49m\u001b[47m\u001b[30mT\u001b[39m\u001b[49m\u001b[47m\u001b[30mG\u001b[39m\u001b[49m\u001b[47m\u001b[30mG\u001b[39m\u001b[49m\u001b[47m\u001b[30mA\u001b[39m\u001b[49m\u001b[47m\u001b[30mG\u001b[39m\u001b[49m\u001b[47m\u001b[30mT\u001b[39m\u001b[49m\u001b[47m\u001b[30mT\u001b[39m\u001b[49m\u001b[47m\u001b[30mA\u001b[39m\u001b[49m\u001b[47m\u001b[30mA\u001b[39m\u001b[49m\u001b[47m\u001b[30mA\u001b[39m\u001b[49m IMGT_DRB1*16:68:m...\n",
       "[26572] 11548 \u001b[47m\u001b[30mG\u001b[39m\u001b[49m\u001b[47m\u001b[30mC\u001b[39m\u001b[49m\u001b[47m\u001b[30mA\u001b[39m\u001b[49m\u001b[47m\u001b[30mT\u001b[39m\u001b[49m\u001b[47m\u001b[30mC\u001b[39m\u001b[49m\u001b[47m\u001b[30mC\u001b[39m\u001b[49m\u001b[47m\u001b[30mA\u001b[39m\u001b[49m\u001b[47m\u001b[30mC\u001b[39m\u001b[49m\u001b[47m\u001b[30mA\u001b[39m\u001b[49m\u001b[47m\u001b[30mG\u001b[39m\u001b[49m\u001b[47m\u001b[30mA\u001b[39m\u001b[49m\u001b[47m\u001b[30mA\u001b[39m\u001b[49m\u001b[47m\u001b[30mT\u001b[39m\u001b[49m\u001b[47m\u001b[30mC\u001b[39m\u001b[49m\u001b[47m\u001b[30mA\u001b[39m\u001b[49m\u001b[47m\u001b[30mC\u001b[39m\u001b[49m\u001b[47m\u001b[30mA\u001b[39m\u001b[49m\u001b[47m\u001b[30mT\u001b[39m\u001b[49m\u001b[47m\u001b[30mT\u001b[39m\u001b[49m\u001b[47m\u001b[30mT\u001b[39m\u001b[49m\u001b[47m\u001b[30mT\u001b[39m\u001b[49m...\u001b[47m\u001b[30mT\u001b[39m\u001b[49m\u001b[47m\u001b[30mT\u001b[39m\u001b[49m\u001b[47m\u001b[30mT\u001b[39m\u001b[49m\u001b[47m\u001b[30mC\u001b[39m\u001b[49m\u001b[47m\u001b[30mT\u001b[39m\u001b[49m\u001b[47m\u001b[30mC\u001b[39m\u001b[49m\u001b[47m\u001b[30mA\u001b[39m\u001b[49m\u001b[47m\u001b[30mA\u001b[39m\u001b[49m\u001b[47m\u001b[30mA\u001b[39m\u001b[49m\u001b[47m\u001b[30mG\u001b[39m\u001b[49m\u001b[47m\u001b[30mA\u001b[39m\u001b[49m\u001b[47m\u001b[30mT\u001b[39m\u001b[49m\u001b[47m\u001b[30mG\u001b[39m\u001b[49m\u001b[47m\u001b[30mG\u001b[39m\u001b[49m\u001b[47m\u001b[30mA\u001b[39m\u001b[49m\u001b[47m\u001b[30mG\u001b[39m\u001b[49m\u001b[47m\u001b[30mT\u001b[39m\u001b[49m\u001b[47m\u001b[30mT\u001b[39m\u001b[49m\u001b[47m\u001b[30mA\u001b[39m\u001b[49m\u001b[47m\u001b[30mA\u001b[39m\u001b[49m\u001b[47m\u001b[30mA\u001b[39m\u001b[49m IMGT_DRB1*16:69:m...\n",
       "[26573] 11548 \u001b[47m\u001b[30mG\u001b[39m\u001b[49m\u001b[47m\u001b[30mC\u001b[39m\u001b[49m\u001b[47m\u001b[30mA\u001b[39m\u001b[49m\u001b[47m\u001b[30mT\u001b[39m\u001b[49m\u001b[47m\u001b[30mC\u001b[39m\u001b[49m\u001b[47m\u001b[30mC\u001b[39m\u001b[49m\u001b[47m\u001b[30mA\u001b[39m\u001b[49m\u001b[47m\u001b[30mC\u001b[39m\u001b[49m\u001b[47m\u001b[30mA\u001b[39m\u001b[49m\u001b[47m\u001b[30mG\u001b[39m\u001b[49m\u001b[47m\u001b[30mA\u001b[39m\u001b[49m\u001b[47m\u001b[30mA\u001b[39m\u001b[49m\u001b[47m\u001b[30mT\u001b[39m\u001b[49m\u001b[47m\u001b[30mC\u001b[39m\u001b[49m\u001b[47m\u001b[30mA\u001b[39m\u001b[49m\u001b[47m\u001b[30mC\u001b[39m\u001b[49m\u001b[47m\u001b[30mA\u001b[39m\u001b[49m\u001b[47m\u001b[30mT\u001b[39m\u001b[49m\u001b[47m\u001b[30mT\u001b[39m\u001b[49m\u001b[47m\u001b[30mT\u001b[39m\u001b[49m\u001b[47m\u001b[30mT\u001b[39m\u001b[49m...\u001b[47m\u001b[30mT\u001b[39m\u001b[49m\u001b[47m\u001b[30mT\u001b[39m\u001b[49m\u001b[47m\u001b[30mT\u001b[39m\u001b[49m\u001b[47m\u001b[30mC\u001b[39m\u001b[49m\u001b[47m\u001b[30mT\u001b[39m\u001b[49m\u001b[47m\u001b[30mC\u001b[39m\u001b[49m\u001b[47m\u001b[30mA\u001b[39m\u001b[49m\u001b[47m\u001b[30mA\u001b[39m\u001b[49m\u001b[47m\u001b[30mA\u001b[39m\u001b[49m\u001b[47m\u001b[30mG\u001b[39m\u001b[49m\u001b[47m\u001b[30mA\u001b[39m\u001b[49m\u001b[47m\u001b[30mT\u001b[39m\u001b[49m\u001b[47m\u001b[30mG\u001b[39m\u001b[49m\u001b[47m\u001b[30mG\u001b[39m\u001b[49m\u001b[47m\u001b[30mA\u001b[39m\u001b[49m\u001b[47m\u001b[30mG\u001b[39m\u001b[49m\u001b[47m\u001b[30mT\u001b[39m\u001b[49m\u001b[47m\u001b[30mT\u001b[39m\u001b[49m\u001b[47m\u001b[30mA\u001b[39m\u001b[49m\u001b[47m\u001b[30mA\u001b[39m\u001b[49m\u001b[47m\u001b[30mA\u001b[39m\u001b[49m IMGT_DRB1*16:71:m..."
      ]
     },
     "metadata": {},
     "output_type": "display_data"
    },
    {
     "data": {
      "text/html": [
       "<ol>\n",
       "\t<li>'A-01-01'</li>\n",
       "\t<li>'A-01-01'</li>\n",
       "\t<li>'A-01-01'</li>\n",
       "\t<li>'A-01-01'</li>\n",
       "</ol>\n"
      ],
      "text/latex": [
       "\\begin{enumerate}\n",
       "\\item 'A-01-01'\n",
       "\\item 'A-01-01'\n",
       "\\item 'A-01-01'\n",
       "\\item 'A-01-01'\n",
       "\\end{enumerate}\n"
      ],
      "text/markdown": [
       "1. 'A-01-01'\n",
       "2. 'A-01-01'\n",
       "3. 'A-01-01'\n",
       "4. 'A-01-01'\n",
       "\n",
       "\n"
      ],
      "text/plain": [
       "[[1]]\n",
       "[1] \"A-01-01\"\n",
       "\n",
       "[[2]]\n",
       "[1] \"A-01-01\"\n",
       "\n",
       "[[3]]\n",
       "[1] \"A-01-01\"\n",
       "\n",
       "[[4]]\n",
       "[1] \"A-01-01\"\n"
      ]
     },
     "metadata": {},
     "output_type": "display_data"
    },
    {
     "data": {
      "text/html": [
       "<ol>\n",
       "\t<li>'DRB1-16-67'</li>\n",
       "\t<li>'DRB1-16-68'</li>\n",
       "\t<li>'DRB1-16-69'</li>\n",
       "\t<li>'DRB1-16-71'</li>\n",
       "</ol>\n"
      ],
      "text/latex": [
       "\\begin{enumerate}\n",
       "\\item 'DRB1-16-67'\n",
       "\\item 'DRB1-16-68'\n",
       "\\item 'DRB1-16-69'\n",
       "\\item 'DRB1-16-71'\n",
       "\\end{enumerate}\n"
      ],
      "text/markdown": [
       "1. 'DRB1-16-67'\n",
       "2. 'DRB1-16-68'\n",
       "3. 'DRB1-16-69'\n",
       "4. 'DRB1-16-71'\n",
       "\n",
       "\n"
      ],
      "text/plain": [
       "[[1]]\n",
       "[1] \"DRB1-16-67\"\n",
       "\n",
       "[[2]]\n",
       "[1] \"DRB1-16-68\"\n",
       "\n",
       "[[3]]\n",
       "[1] \"DRB1-16-69\"\n",
       "\n",
       "[[4]]\n",
       "[1] \"DRB1-16-71\"\n"
      ]
     },
     "metadata": {},
     "output_type": "display_data"
    }
   ],
   "source": [
    "database\n",
    "head(formatted_database_names, 4)\n",
    "tail(formatted_database_names, 4)"
   ]
  },
  {
   "cell_type": "markdown",
   "id": "a72fd4a5-5bf0-451b-83de-5f30cd29f448",
   "metadata": {},
   "source": [
    "### Make files for example data"
   ]
  },
  {
   "cell_type": "code",
   "execution_count": 5,
   "id": "351d10eb-e593-4e15-9974-794434ef3d29",
   "metadata": {},
   "outputs": [],
   "source": [
    "personalized_alleles_path = '../example_data/inputs/alleles' \n",
    "out = '../example_outputs/personalized_references/'\n",
    "if (! dir.exists(out)) { dir.create(out) }\n",
    "make_references(personalized_alleles_path, sequence_database_path, out)"
   ]
  },
  {
   "cell_type": "markdown",
   "id": "df53f047-f459-48f7-9589-63e6f228eef4",
   "metadata": {},
   "source": [
    "## Mask the reference genome HLA genes with N's"
   ]
  },
  {
   "cell_type": "markdown",
   "id": "3eacd2cb-f721-478d-a724-2ef97783eea2",
   "metadata": {},
   "source": [
    "**Compare Indicies Gene vs. All Annotations** <br />\n",
    "Make sure indices are the same to chose optimal masking"
   ]
  },
  {
   "cell_type": "code",
   "execution_count": 6,
   "id": "f9092442-acad-45b1-ae34-3deab9615f7a",
   "metadata": {},
   "outputs": [],
   "source": [
    "# Directory to starting files (GRCh38 genome and Gencode annotation files)\n",
    "dir = '../example_data/GRCh38_refs/'\n",
    "\n",
    "# File path to write masked genome\n",
    "genome_out = paste0(dir, '/GRCh38.primary_assembly.genome_maskedHLAClassical.fa')"
   ]
  },
  {
   "cell_type": "code",
   "execution_count": 7,
   "id": "80059ce0-2551-42f9-aa4d-8c1cc265c31f",
   "metadata": {},
   "outputs": [],
   "source": [
    "annotations = rtracklayer::import(paste0(dir, 'gencode.v38.annotation.gtf'))\n",
    "genome = Biostrings::readDNAStringSet(paste0(dir, 'GRCh38.primary_assembly.genome.fa'))\n",
    "classical = c('HLA-A', 'HLA-B', 'HLA-C', 'HLA-DRB1', 'HLA-DQA1', 'HLA-DPA1', 'HLA-DPB1', 'HLA-DQB1')\n",
    "classical_annotations = annotations[which(annotations$gene_name %in% classical),]"
   ]
  },
  {
   "cell_type": "code",
   "execution_count": 8,
   "id": "8c867a47-d2e4-4bea-b1a2-4cc6a89f5092",
   "metadata": {},
   "outputs": [
    {
     "name": "stdout",
     "output_type": "stream",
     "text": [
      "[1] TRUE TRUE TRUE TRUE TRUE TRUE TRUE TRUE\n",
      "[1] TRUE TRUE TRUE TRUE TRUE TRUE TRUE TRUE\n"
     ]
    }
   ],
   "source": [
    "rownames = c('HLA-A', 'HLA-B', 'HLA-C', 'HLA-DRB1', 'HLA-DQA1', 'HLA-DPA1', 'HLA-DPB1', 'HLA-DQB1')\n",
    "colnames = c('gene_start', 'min_start', 'gene_end', 'max_end')\n",
    "start_end = data.frame(matrix(ncol=length(colnames), nrow=length(rownames), dimnames=list(rownames, colnames)))\n",
    "\n",
    "for (gene in classical) {   \n",
    "    all_annotations = classical_annotations[which(classical_annotations$gene_name == gene),]\n",
    "    start_end[gene, 'min_start'] = min(start(ranges(all_annotations)))\n",
    "    start_end[gene, 'max_end'] = max(end(ranges(all_annotations)))\n",
    "    \n",
    "    gene_annotation = all_annotations[which(all_annotations$type == 'gene')]\n",
    "    start_end[gene, 'gene_start'] = start(ranges(gene_annotation))\n",
    "    start_end[gene, 'gene_end'] = end(ranges(gene_annotation))\n",
    "}\n",
    "\n",
    "print(start_end$gene_start == start_end$min_start)\n",
    "print(start_end$gene_end == start_end$max_end)"
   ]
  },
  {
   "cell_type": "markdown",
   "id": "0c6faae4-b6d5-4349-b996-c75cbbe3c446",
   "metadata": {},
   "source": [
    "**Mask Classical Gene in GRCh38**"
   ]
  },
  {
   "cell_type": "markdown",
   "id": "95c9bdc2-7923-4fbc-8a36-0ed8d00bd19e",
   "metadata": {},
   "source": [
    "By performing a multiple sequence alignment between the GRCh38 HLA gene (length determined by Gencode v38 annotations) and the IMGT genomic sequences, we noticed that for HLA-B and HLA-C, the IMGT sequences have extra sequence content at the end of the IMGT sequence (corresponding to the 3' end of the GRCh38 sequence since these genes are on the negative strand). Hence, we adjust the start and end locations on GRCh38 to mask the appropriate extra sequence."
   ]
  },
  {
   "cell_type": "code",
   "execution_count": 9,
   "id": "aa42377b-429c-471b-acdd-0c7136612d4d",
   "metadata": {},
   "outputs": [
    {
     "data": {
      "text/html": [
       "<table class=\"dataframe\">\n",
       "<caption>A data.frame: 8 × 5</caption>\n",
       "<thead>\n",
       "\t<tr><th></th><th scope=col>gene_start</th><th scope=col>min_start</th><th scope=col>gene_end</th><th scope=col>max_end</th><th scope=col>adjusted_start</th></tr>\n",
       "\t<tr><th></th><th scope=col>&lt;int&gt;</th><th scope=col>&lt;int&gt;</th><th scope=col>&lt;int&gt;</th><th scope=col>&lt;int&gt;</th><th scope=col>&lt;dbl&gt;</th></tr>\n",
       "</thead>\n",
       "<tbody>\n",
       "\t<tr><th scope=row>HLA-A</th><td>29941260</td><td>29941260</td><td>29945884</td><td>29945884</td><td>29941260</td></tr>\n",
       "\t<tr><th scope=row>HLA-B</th><td>31353872</td><td>31353872</td><td>31357188</td><td>31357188</td><td>31353362</td></tr>\n",
       "\t<tr><th scope=row>HLA-C</th><td>31268749</td><td>31268749</td><td>31272130</td><td>31272130</td><td>31268254</td></tr>\n",
       "\t<tr><th scope=row>HLA-DRB1</th><td>32578769</td><td>32578769</td><td>32589848</td><td>32589848</td><td>32578769</td></tr>\n",
       "\t<tr><th scope=row>HLA-DQA1</th><td>32628179</td><td>32628179</td><td>32647062</td><td>32647062</td><td>32628179</td></tr>\n",
       "\t<tr><th scope=row>HLA-DPA1</th><td>33064569</td><td>33064569</td><td>33080775</td><td>33080775</td><td>33064569</td></tr>\n",
       "\t<tr><th scope=row>HLA-DPB1</th><td>33075990</td><td>33075990</td><td>33089696</td><td>33089696</td><td>33075990</td></tr>\n",
       "\t<tr><th scope=row>HLA-DQB1</th><td>32659467</td><td>32659467</td><td>32668383</td><td>32668383</td><td>32659467</td></tr>\n",
       "</tbody>\n",
       "</table>\n"
      ],
      "text/latex": [
       "A data.frame: 8 × 5\n",
       "\\begin{tabular}{r|lllll}\n",
       "  & gene\\_start & min\\_start & gene\\_end & max\\_end & adjusted\\_start\\\\\n",
       "  & <int> & <int> & <int> & <int> & <dbl>\\\\\n",
       "\\hline\n",
       "\tHLA-A & 29941260 & 29941260 & 29945884 & 29945884 & 29941260\\\\\n",
       "\tHLA-B & 31353872 & 31353872 & 31357188 & 31357188 & 31353362\\\\\n",
       "\tHLA-C & 31268749 & 31268749 & 31272130 & 31272130 & 31268254\\\\\n",
       "\tHLA-DRB1 & 32578769 & 32578769 & 32589848 & 32589848 & 32578769\\\\\n",
       "\tHLA-DQA1 & 32628179 & 32628179 & 32647062 & 32647062 & 32628179\\\\\n",
       "\tHLA-DPA1 & 33064569 & 33064569 & 33080775 & 33080775 & 33064569\\\\\n",
       "\tHLA-DPB1 & 33075990 & 33075990 & 33089696 & 33089696 & 33075990\\\\\n",
       "\tHLA-DQB1 & 32659467 & 32659467 & 32668383 & 32668383 & 32659467\\\\\n",
       "\\end{tabular}\n"
      ],
      "text/markdown": [
       "\n",
       "A data.frame: 8 × 5\n",
       "\n",
       "| <!--/--> | gene_start &lt;int&gt; | min_start &lt;int&gt; | gene_end &lt;int&gt; | max_end &lt;int&gt; | adjusted_start &lt;dbl&gt; |\n",
       "|---|---|---|---|---|---|\n",
       "| HLA-A | 29941260 | 29941260 | 29945884 | 29945884 | 29941260 |\n",
       "| HLA-B | 31353872 | 31353872 | 31357188 | 31357188 | 31353362 |\n",
       "| HLA-C | 31268749 | 31268749 | 31272130 | 31272130 | 31268254 |\n",
       "| HLA-DRB1 | 32578769 | 32578769 | 32589848 | 32589848 | 32578769 |\n",
       "| HLA-DQA1 | 32628179 | 32628179 | 32647062 | 32647062 | 32628179 |\n",
       "| HLA-DPA1 | 33064569 | 33064569 | 33080775 | 33080775 | 33064569 |\n",
       "| HLA-DPB1 | 33075990 | 33075990 | 33089696 | 33089696 | 33075990 |\n",
       "| HLA-DQB1 | 32659467 | 32659467 | 32668383 | 32668383 | 32659467 |\n",
       "\n"
      ],
      "text/plain": [
       "         gene_start min_start gene_end max_end  adjusted_start\n",
       "HLA-A    29941260   29941260  29945884 29945884 29941260      \n",
       "HLA-B    31353872   31353872  31357188 31357188 31353362      \n",
       "HLA-C    31268749   31268749  31272130 31272130 31268254      \n",
       "HLA-DRB1 32578769   32578769  32589848 32589848 32578769      \n",
       "HLA-DQA1 32628179   32628179  32647062 32647062 32628179      \n",
       "HLA-DPA1 33064569   33064569  33080775 33080775 33064569      \n",
       "HLA-DPB1 33075990   33075990  33089696 33089696 33075990      \n",
       "HLA-DQB1 32659467   32659467  32668383 32668383 32659467      "
      ]
     },
     "metadata": {},
     "output_type": "display_data"
    }
   ],
   "source": [
    "# adjust for missing 3'UTR annotation in HLA-B and HLA-C\n",
    "start_end$adjusted_start = start_end$gene_start\n",
    "start_end['HLA-B', 'adjusted_start'] = start_end['HLA-B', 'adjusted_start'] - 510 # constant determined by MSA\n",
    "start_end['HLA-C', 'adjusted_start'] = start_end['HLA-C', 'adjusted_start'] - 495 # constant determined by MSA\n",
    "start_end"
   ]
  },
  {
   "cell_type": "code",
   "execution_count": 10,
   "id": "ce403b2c-dc8c-4619-96c5-c3bc23b5e5a2",
   "metadata": {},
   "outputs": [],
   "source": [
    "# Get chr 6 sequence\n",
    "chr6 = genome['chr6 6'][[1]] # all annotations point to chr6 so this is okay\n",
    "\n",
    "for (gene in classical) {\n",
    "    start = start_end[gene, 'adjusted_start']\n",
    "    end = start_end[gene, 'gene_end']\n",
    "    mask = paste(rep('N', nchar(as.character(chr6[start:end]))), collapse=\"\")\n",
    "    chr6[start:end] = as(mask, \"DNAString\")\n",
    "}\n",
    "\n",
    "genome['chr6 6'][[1]] = chr6\n",
    "Biostrings::writeXStringSet(genome, genome_out) # save file\n",
    "genome_masked = Biostrings::readDNAStringSet(genome_out)"
   ]
  },
  {
   "cell_type": "code",
   "execution_count": 11,
   "id": "a75044fa-b6f2-48d4-a436-af3cd3a8fdc8",
   "metadata": {},
   "outputs": [
    {
     "name": "stdout",
     "output_type": "stream",
     "text": [
      "[1] TRUE\n",
      "[1] TRUE\n",
      "[1] TRUE\n",
      "[1] TRUE\n",
      "[1] TRUE\n",
      "[1] TRUE\n",
      "[1] TRUE\n",
      "[1] TRUE\n"
     ]
    }
   ],
   "source": [
    "# Check to make sure masking worked\n",
    "genome_masked = Biostrings::readDNAStringSet(genome_out)\n",
    "\n",
    "chr6 = genome['chr6 6'][[1]]\n",
    "for (gene in classical) {\n",
    "    start = start_end[gene, 'adjusted_start']\n",
    "    end = start_end[gene, 'gene_end']\n",
    "    print(as.character(chr6[start:end]) == paste(rep('N', nchar(as.character(chr6[start:end]))), collapse=\"\"))\n",
    "}"
   ]
  },
  {
   "cell_type": "markdown",
   "id": "45ec022e-bfb2-436c-aef1-141b5a27445a",
   "metadata": {},
   "source": [
    "## Remove classical HLA entries from reference GTF file"
   ]
  },
  {
   "cell_type": "markdown",
   "id": "0616ac59-5ea1-48de-b8bb-56fec71811ff",
   "metadata": {},
   "source": [
    "**Make Annotation with Classical Removed** <br />\n",
    "STARsolo does not like annotations pointing to 'NNNN...'"
   ]
  },
  {
   "cell_type": "markdown",
   "id": "f8ac55f7-2813-4e2f-862e-e3b929b9c102",
   "metadata": {},
   "source": [
    "Note: We filtered the original gtf file to only protein coding, lncRNA, or TCR/Ig genes using the commands in `steps_to_filter_original_gtf.sh`"
   ]
  },
  {
   "cell_type": "code",
   "execution_count": 12,
   "id": "97a780e3-424e-4b0e-81a2-2f5278e0607f",
   "metadata": {},
   "outputs": [
    {
     "data": {
      "text/plain": [
       "GRanges object with 0 ranges and 20 metadata columns:\n",
       "   seqnames    ranges strand |   source     type     score     phase\n",
       "      <Rle> <IRanges>  <Rle> | <factor> <factor> <numeric> <integer>\n",
       "       gene_id   gene_type   gene_name       level     hgnc_id         tag\n",
       "   <character> <character> <character> <character> <character> <character>\n",
       "   havana_gene transcript_id transcript_type transcript_name\n",
       "   <character>   <character>     <character>     <character>\n",
       "   transcript_support_level havana_transcript exon_number     exon_id\n",
       "                <character>       <character> <character> <character>\n",
       "    protein_id      ccdsid\n",
       "   <character> <character>\n",
       "  -------\n",
       "  seqinfo: 25 sequences from an unspecified genome; no seqlengths"
      ]
     },
     "metadata": {},
     "output_type": "display_data"
    }
   ],
   "source": [
    "classical = c('HLA-A', 'HLA-B', 'HLA-C', 'HLA-DRB1', 'HLA-DQA1', 'HLA-DPA1', 'HLA-DPB1', 'HLA-DQB1')\n",
    "\n",
    "filtered_annot_dir = '../example_data/GRCh38_refs/gencode.v38.annotation.filtered.gtf'\n",
    "annot = rtracklayer::import(filtered_annot_dir)\n",
    "\n",
    "masked_annot = annot[which(!(annot$gene_name %in% classical)),]\n",
    "masked_annot_out = '../example_data/GRCh38_refs/gencode.v38.annotation.filtered.masked.gtf'\n",
    "rtracklayer::export(masked_annot, masked_annot_out)\n",
    "\n",
    "# check to make sure this worked\n",
    "testing = rtracklayer::import(masked_annot_out)\n",
    "testing[which(testing$gene_name %in% classical),]"
   ]
  },
  {
   "cell_type": "markdown",
   "id": "81c46877-f21d-44ab-aacd-f2678582b171",
   "metadata": {},
   "source": [
    "`../example_data/GRCh38_refs/gencode.v38.annotation.filtered.masked.gtf` contains the GTF file without any entries for classical HLA genes (ready for concatenating with personalized GTFs)"
   ]
  },
  {
   "cell_type": "markdown",
   "id": "84b05d3f-489c-4255-b983-4c5857eb7e82",
   "metadata": {},
   "source": [
    "## All done!"
   ]
  },
  {
   "cell_type": "code",
   "execution_count": 13,
   "id": "1b4fcf12-9dde-4538-9004-5655f7c029fa",
   "metadata": {},
   "outputs": [
    {
     "data": {
      "text/plain": [
       "R version 4.0.5 (2021-03-31)\n",
       "Platform: x86_64-conda-linux-gnu (64-bit)\n",
       "Running under: Red Hat Enterprise Linux Server release 6.5 (Santiago)\n",
       "\n",
       "Matrix products: default\n",
       "BLAS/LAPACK: /PHShome/jbk37/anaconda3/envs/hla_new/lib/libopenblasp-r0.3.18.so\n",
       "\n",
       "locale:\n",
       " [1] LC_CTYPE=en_US.UTF-8       LC_NUMERIC=C              \n",
       " [3] LC_TIME=en_US.UTF-8        LC_COLLATE=en_US.UTF-8    \n",
       " [5] LC_MONETARY=en_US.UTF-8    LC_MESSAGES=en_US.UTF-8   \n",
       " [7] LC_PAPER=en_US.UTF-8       LC_NAME=C                 \n",
       " [9] LC_ADDRESS=C               LC_TELEPHONE=C            \n",
       "[11] LC_MEASUREMENT=en_US.UTF-8 LC_IDENTIFICATION=C       \n",
       "\n",
       "attached base packages:\n",
       "[1] parallel  stats4    stats     graphics  grDevices utils     datasets \n",
       "[8] methods   base     \n",
       "\n",
       "other attached packages:\n",
       " [1] forcats_0.5.1        purrr_0.3.4          readr_2.1.2         \n",
       " [4] tidyr_1.2.0          tibble_3.1.6         ggplot2_3.3.5       \n",
       " [7] tidyverse_1.3.1      stringr_1.4.0        dplyr_1.0.8         \n",
       "[10] Biostrings_2.58.0    XVector_0.30.0       rtracklayer_1.50.0  \n",
       "[13] GenomicRanges_1.42.0 GenomeInfoDb_1.26.7  IRanges_2.24.1      \n",
       "[16] S4Vectors_0.28.1     BiocGenerics_0.36.1 \n",
       "\n",
       "loaded via a namespace (and not attached):\n",
       " [1] MatrixGenerics_1.2.1        Biobase_2.50.0             \n",
       " [3] httr_1.4.4                  jsonlite_1.8.4             \n",
       " [5] modelr_0.1.8                assertthat_0.2.1           \n",
       " [7] cellranger_1.1.0            GenomeInfoDbData_1.2.4     \n",
       " [9] Rsamtools_2.6.0             pillar_1.8.1               \n",
       "[11] backports_1.4.1             lattice_0.20-45            \n",
       "[13] glue_1.6.2                  uuid_1.0-4                 \n",
       "[15] digest_0.6.31               rvest_1.0.2                \n",
       "[17] colorspace_2.1-0            htmltools_0.5.4            \n",
       "[19] Matrix_1.4-0                XML_3.99-0.9               \n",
       "[21] pkgconfig_2.0.3             broom_0.7.12               \n",
       "[23] haven_2.4.3                 zlibbioc_1.36.0            \n",
       "[25] scales_1.2.1                tzdb_0.2.0                 \n",
       "[27] BiocParallel_1.24.1         generics_0.1.3             \n",
       "[29] ellipsis_0.3.2              withr_2.5.0                \n",
       "[31] SummarizedExperiment_1.20.0 repr_1.1.4                 \n",
       "[33] cli_3.6.0                   magrittr_2.0.3             \n",
       "[35] crayon_1.5.0                readxl_1.3.1               \n",
       "[37] evaluate_0.20               fs_1.6.1                   \n",
       "[39] fansi_1.0.4                 xml2_1.3.3                 \n",
       "[41] tools_4.0.5                 hms_1.1.1                  \n",
       "[43] lifecycle_1.0.3             matrixStats_0.61.0         \n",
       "[45] reprex_2.0.1                munsell_0.5.0              \n",
       "[47] DelayedArray_0.16.3         compiler_4.0.5             \n",
       "[49] rlang_1.0.6                 grid_4.0.5                 \n",
       "[51] RCurl_1.98-1.6              rstudioapi_0.13            \n",
       "[53] pbdZMQ_0.3-7                IRkernel_1.3               \n",
       "[55] bitops_1.0-7                base64enc_0.1-3            \n",
       "[57] gtable_0.3.1                DBI_1.1.3                  \n",
       "[59] R6_2.5.1                    GenomicAlignments_1.26.0   \n",
       "[61] lubridate_1.8.0             fastmap_1.1.0              \n",
       "[63] utf8_1.2.3                  stringi_1.7.8              \n",
       "[65] IRdisplay_1.1               Rcpp_1.0.10                \n",
       "[67] vctrs_0.5.2                 dbplyr_2.1.1               \n",
       "[69] tidyselect_1.1.2           "
      ]
     },
     "metadata": {},
     "output_type": "display_data"
    }
   ],
   "source": [
    "sessionInfo()"
   ]
  }
 ],
 "metadata": {
  "kernelspec": {
   "display_name": "R_4.0.5",
   "language": "R",
   "name": "r_4.0.5"
  },
  "language_info": {
   "codemirror_mode": "r",
   "file_extension": ".r",
   "mimetype": "text/x-r-source",
   "name": "R",
   "pygments_lexer": "r",
   "version": "4.0.5"
  }
 },
 "nbformat": 4,
 "nbformat_minor": 5
}
