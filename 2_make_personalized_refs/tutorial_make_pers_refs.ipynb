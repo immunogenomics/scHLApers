{
 "cells": [
  {
   "cell_type": "markdown",
   "id": "9aa85694-1ce3-46f3-9f53-637376672f5c",
   "metadata": {},
   "source": [
    "# Make personalized HLA reference FASTA and GTF files\n",
    "\n",
    "Written by Amber Shen & Joyce Kang\n",
    "\n",
    "Last updated Feb 16, 2023"
   ]
  },
  {
   "cell_type": "code",
   "execution_count": 1,
   "id": "6d0e7420-2918-4711-aa78-85b19fe98551",
   "metadata": {},
   "outputs": [],
   "source": [
    "suppressPackageStartupMessages({\n",
    "    library(Biostrings)\n",
    "    library(dplyr)\n",
    "    library(stringr)\n",
    "    library(tidyverse)\n",
    "})"
   ]
  },
  {
   "cell_type": "code",
   "execution_count": 2,
   "id": "76746a1b-cc65-4cfd-b95c-2313ed26ce8c",
   "metadata": {},
   "outputs": [],
   "source": [
    "source('make_pers_utils.R') # Functions to make personalized genomes and annotations"
   ]
  },
  {
   "cell_type": "markdown",
   "id": "5db0e761-6113-4760-8ed4-9e04484fa6a8",
   "metadata": {},
   "source": [
    "Read in IMGT allele database"
   ]
  },
  {
   "cell_type": "code",
   "execution_count": 3,
   "id": "934ce3e6-3aa0-4a6d-9ea9-5c1fa7a76a76",
   "metadata": {},
   "outputs": [],
   "source": [
    "sequence_database_path = '../1_make_HLA_database/IMGTHLA_all_alleles_FINAL.fa'\n",
    "database = Biostrings::readDNAStringSet(sequence_database_path)\n",
    "formatted_database_names = lapply(names(database), format_allele)"
   ]
  },
  {
   "cell_type": "markdown",
   "id": "e1551c61-3b80-496c-80bf-5ceac4674a23",
   "metadata": {},
   "source": [
    "Examine the database"
   ]
  },
  {
   "cell_type": "code",
   "execution_count": 4,
   "id": "dd548c9c-57d9-49e2-8a22-fc80d1b50e40",
   "metadata": {},
   "outputs": [
    {
     "data": {
      "text/plain": [
       "DNAStringSet object of length 26573:\n",
       "        width seq                                           names               \n",
       "    [1]  4626 \u001b[47m\u001b[30mA\u001b[39m\u001b[49m\u001b[47m\u001b[30mA\u001b[39m\u001b[49m\u001b[47m\u001b[30mG\u001b[39m\u001b[49m\u001b[47m\u001b[30mG\u001b[39m\u001b[49m\u001b[47m\u001b[30mG\u001b[39m\u001b[49m\u001b[47m\u001b[30mG\u001b[39m\u001b[49m\u001b[47m\u001b[30mA\u001b[39m\u001b[49m\u001b[47m\u001b[30mG\u001b[39m\u001b[49m\u001b[47m\u001b[30mA\u001b[39m\u001b[49m\u001b[47m\u001b[30mG\u001b[39m\u001b[49m\u001b[47m\u001b[30mG\u001b[39m\u001b[49m\u001b[47m\u001b[30mA\u001b[39m\u001b[49m\u001b[47m\u001b[30mG\u001b[39m\u001b[49m\u001b[47m\u001b[30mG\u001b[39m\u001b[49m\u001b[47m\u001b[30mG\u001b[39m\u001b[49m\u001b[47m\u001b[30mC\u001b[39m\u001b[49m\u001b[47m\u001b[30mC\u001b[39m\u001b[49m\u001b[47m\u001b[30mT\u001b[39m\u001b[49m\u001b[47m\u001b[30mG\u001b[39m\u001b[49m\u001b[47m\u001b[30mA\u001b[39m\u001b[49m\u001b[47m\u001b[30mA\u001b[39m\u001b[49m...\u001b[47m\u001b[30mA\u001b[39m\u001b[49m\u001b[47m\u001b[30mT\u001b[39m\u001b[49m\u001b[47m\u001b[30mG\u001b[39m\u001b[49m\u001b[47m\u001b[30mA\u001b[39m\u001b[49m\u001b[47m\u001b[30mG\u001b[39m\u001b[49m\u001b[47m\u001b[30mA\u001b[39m\u001b[49m\u001b[47m\u001b[30mA\u001b[39m\u001b[49m\u001b[47m\u001b[30mC\u001b[39m\u001b[49m\u001b[47m\u001b[30mC\u001b[39m\u001b[49m\u001b[47m\u001b[30mT\u001b[39m\u001b[49m\u001b[47m\u001b[30mT\u001b[39m\u001b[49m\u001b[47m\u001b[30mC\u001b[39m\u001b[49m\u001b[47m\u001b[30mC\u001b[39m\u001b[49m\u001b[47m\u001b[30mA\u001b[39m\u001b[49m\u001b[47m\u001b[30mG\u001b[39m\u001b[49m\u001b[47m\u001b[30mA\u001b[39m\u001b[49m\u001b[47m\u001b[30mG\u001b[39m\u001b[49m\u001b[47m\u001b[30mT\u001b[39m\u001b[49m\u001b[47m\u001b[30mC\u001b[39m\u001b[49m\u001b[47m\u001b[30mC\u001b[39m\u001b[49m\u001b[47m\u001b[30mA\u001b[39m\u001b[49m IMGT_A*01:01:01:01\n",
       "    [2]  4626 \u001b[47m\u001b[30mA\u001b[39m\u001b[49m\u001b[47m\u001b[30mA\u001b[39m\u001b[49m\u001b[47m\u001b[30mG\u001b[39m\u001b[49m\u001b[47m\u001b[30mG\u001b[39m\u001b[49m\u001b[47m\u001b[30mG\u001b[39m\u001b[49m\u001b[47m\u001b[30mG\u001b[39m\u001b[49m\u001b[47m\u001b[30mA\u001b[39m\u001b[49m\u001b[47m\u001b[30mG\u001b[39m\u001b[49m\u001b[47m\u001b[30mA\u001b[39m\u001b[49m\u001b[47m\u001b[30mG\u001b[39m\u001b[49m\u001b[47m\u001b[30mG\u001b[39m\u001b[49m\u001b[47m\u001b[30mA\u001b[39m\u001b[49m\u001b[47m\u001b[30mG\u001b[39m\u001b[49m\u001b[47m\u001b[30mG\u001b[39m\u001b[49m\u001b[47m\u001b[30mG\u001b[39m\u001b[49m\u001b[47m\u001b[30mC\u001b[39m\u001b[49m\u001b[47m\u001b[30mC\u001b[39m\u001b[49m\u001b[47m\u001b[30mT\u001b[39m\u001b[49m\u001b[47m\u001b[30mG\u001b[39m\u001b[49m\u001b[47m\u001b[30mA\u001b[39m\u001b[49m\u001b[47m\u001b[30mA\u001b[39m\u001b[49m...\u001b[47m\u001b[30mA\u001b[39m\u001b[49m\u001b[47m\u001b[30mT\u001b[39m\u001b[49m\u001b[47m\u001b[30mG\u001b[39m\u001b[49m\u001b[47m\u001b[30mA\u001b[39m\u001b[49m\u001b[47m\u001b[30mG\u001b[39m\u001b[49m\u001b[47m\u001b[30mA\u001b[39m\u001b[49m\u001b[47m\u001b[30mA\u001b[39m\u001b[49m\u001b[47m\u001b[30mC\u001b[39m\u001b[49m\u001b[47m\u001b[30mC\u001b[39m\u001b[49m\u001b[47m\u001b[30mT\u001b[39m\u001b[49m\u001b[47m\u001b[30mT\u001b[39m\u001b[49m\u001b[47m\u001b[30mC\u001b[39m\u001b[49m\u001b[47m\u001b[30mC\u001b[39m\u001b[49m\u001b[47m\u001b[30mA\u001b[39m\u001b[49m\u001b[47m\u001b[30mG\u001b[39m\u001b[49m\u001b[47m\u001b[30mA\u001b[39m\u001b[49m\u001b[47m\u001b[30mG\u001b[39m\u001b[49m\u001b[47m\u001b[30mT\u001b[39m\u001b[49m\u001b[47m\u001b[30mC\u001b[39m\u001b[49m\u001b[47m\u001b[30mC\u001b[39m\u001b[49m\u001b[47m\u001b[30mA\u001b[39m\u001b[49m IMGT_A*01:01:01:03\n",
       "    [3]  4626 \u001b[47m\u001b[30mA\u001b[39m\u001b[49m\u001b[47m\u001b[30mA\u001b[39m\u001b[49m\u001b[47m\u001b[30mG\u001b[39m\u001b[49m\u001b[47m\u001b[30mG\u001b[39m\u001b[49m\u001b[47m\u001b[30mG\u001b[39m\u001b[49m\u001b[47m\u001b[30mG\u001b[39m\u001b[49m\u001b[47m\u001b[30mA\u001b[39m\u001b[49m\u001b[47m\u001b[30mG\u001b[39m\u001b[49m\u001b[47m\u001b[30mA\u001b[39m\u001b[49m\u001b[47m\u001b[30mG\u001b[39m\u001b[49m\u001b[47m\u001b[30mG\u001b[39m\u001b[49m\u001b[47m\u001b[30mA\u001b[39m\u001b[49m\u001b[47m\u001b[30mG\u001b[39m\u001b[49m\u001b[47m\u001b[30mG\u001b[39m\u001b[49m\u001b[47m\u001b[30mG\u001b[39m\u001b[49m\u001b[47m\u001b[30mC\u001b[39m\u001b[49m\u001b[47m\u001b[30mC\u001b[39m\u001b[49m\u001b[47m\u001b[30mT\u001b[39m\u001b[49m\u001b[47m\u001b[30mG\u001b[39m\u001b[49m\u001b[47m\u001b[30mA\u001b[39m\u001b[49m\u001b[47m\u001b[30mA\u001b[39m\u001b[49m...\u001b[47m\u001b[30mA\u001b[39m\u001b[49m\u001b[47m\u001b[30mT\u001b[39m\u001b[49m\u001b[47m\u001b[30mG\u001b[39m\u001b[49m\u001b[47m\u001b[30mA\u001b[39m\u001b[49m\u001b[47m\u001b[30mG\u001b[39m\u001b[49m\u001b[47m\u001b[30mA\u001b[39m\u001b[49m\u001b[47m\u001b[30mA\u001b[39m\u001b[49m\u001b[47m\u001b[30mC\u001b[39m\u001b[49m\u001b[47m\u001b[30mC\u001b[39m\u001b[49m\u001b[47m\u001b[30mT\u001b[39m\u001b[49m\u001b[47m\u001b[30mT\u001b[39m\u001b[49m\u001b[47m\u001b[30mC\u001b[39m\u001b[49m\u001b[47m\u001b[30mC\u001b[39m\u001b[49m\u001b[47m\u001b[30mA\u001b[39m\u001b[49m\u001b[47m\u001b[30mG\u001b[39m\u001b[49m\u001b[47m\u001b[30mA\u001b[39m\u001b[49m\u001b[47m\u001b[30mG\u001b[39m\u001b[49m\u001b[47m\u001b[30mT\u001b[39m\u001b[49m\u001b[47m\u001b[30mC\u001b[39m\u001b[49m\u001b[47m\u001b[30mC\u001b[39m\u001b[49m\u001b[47m\u001b[30mA\u001b[39m\u001b[49m IMGT_A*01:01:01:04\n",
       "    [4]  4626 \u001b[47m\u001b[30mA\u001b[39m\u001b[49m\u001b[47m\u001b[30mA\u001b[39m\u001b[49m\u001b[47m\u001b[30mG\u001b[39m\u001b[49m\u001b[47m\u001b[30mG\u001b[39m\u001b[49m\u001b[47m\u001b[30mG\u001b[39m\u001b[49m\u001b[47m\u001b[30mG\u001b[39m\u001b[49m\u001b[47m\u001b[30mA\u001b[39m\u001b[49m\u001b[47m\u001b[30mG\u001b[39m\u001b[49m\u001b[47m\u001b[30mA\u001b[39m\u001b[49m\u001b[47m\u001b[30mG\u001b[39m\u001b[49m\u001b[47m\u001b[30mG\u001b[39m\u001b[49m\u001b[47m\u001b[30mA\u001b[39m\u001b[49m\u001b[47m\u001b[30mG\u001b[39m\u001b[49m\u001b[47m\u001b[30mG\u001b[39m\u001b[49m\u001b[47m\u001b[30mG\u001b[39m\u001b[49m\u001b[47m\u001b[30mC\u001b[39m\u001b[49m\u001b[47m\u001b[30mC\u001b[39m\u001b[49m\u001b[47m\u001b[30mT\u001b[39m\u001b[49m\u001b[47m\u001b[30mG\u001b[39m\u001b[49m\u001b[47m\u001b[30mA\u001b[39m\u001b[49m\u001b[47m\u001b[30mA\u001b[39m\u001b[49m...\u001b[47m\u001b[30mA\u001b[39m\u001b[49m\u001b[47m\u001b[30mT\u001b[39m\u001b[49m\u001b[47m\u001b[30mG\u001b[39m\u001b[49m\u001b[47m\u001b[30mA\u001b[39m\u001b[49m\u001b[47m\u001b[30mG\u001b[39m\u001b[49m\u001b[47m\u001b[30mA\u001b[39m\u001b[49m\u001b[47m\u001b[30mA\u001b[39m\u001b[49m\u001b[47m\u001b[30mC\u001b[39m\u001b[49m\u001b[47m\u001b[30mC\u001b[39m\u001b[49m\u001b[47m\u001b[30mT\u001b[39m\u001b[49m\u001b[47m\u001b[30mT\u001b[39m\u001b[49m\u001b[47m\u001b[30mC\u001b[39m\u001b[49m\u001b[47m\u001b[30mC\u001b[39m\u001b[49m\u001b[47m\u001b[30mA\u001b[39m\u001b[49m\u001b[47m\u001b[30mG\u001b[39m\u001b[49m\u001b[47m\u001b[30mA\u001b[39m\u001b[49m\u001b[47m\u001b[30mG\u001b[39m\u001b[49m\u001b[47m\u001b[30mT\u001b[39m\u001b[49m\u001b[47m\u001b[30mC\u001b[39m\u001b[49m\u001b[47m\u001b[30mC\u001b[39m\u001b[49m\u001b[47m\u001b[30mA\u001b[39m\u001b[49m IMGT_A*01:01:01:05\n",
       "    [5]  4626 \u001b[47m\u001b[30mA\u001b[39m\u001b[49m\u001b[47m\u001b[30mA\u001b[39m\u001b[49m\u001b[47m\u001b[30mG\u001b[39m\u001b[49m\u001b[47m\u001b[30mG\u001b[39m\u001b[49m\u001b[47m\u001b[30mG\u001b[39m\u001b[49m\u001b[47m\u001b[30mG\u001b[39m\u001b[49m\u001b[47m\u001b[30mA\u001b[39m\u001b[49m\u001b[47m\u001b[30mG\u001b[39m\u001b[49m\u001b[47m\u001b[30mA\u001b[39m\u001b[49m\u001b[47m\u001b[30mG\u001b[39m\u001b[49m\u001b[47m\u001b[30mG\u001b[39m\u001b[49m\u001b[47m\u001b[30mA\u001b[39m\u001b[49m\u001b[47m\u001b[30mG\u001b[39m\u001b[49m\u001b[47m\u001b[30mG\u001b[39m\u001b[49m\u001b[47m\u001b[30mG\u001b[39m\u001b[49m\u001b[47m\u001b[30mC\u001b[39m\u001b[49m\u001b[47m\u001b[30mC\u001b[39m\u001b[49m\u001b[47m\u001b[30mT\u001b[39m\u001b[49m\u001b[47m\u001b[30mG\u001b[39m\u001b[49m\u001b[47m\u001b[30mA\u001b[39m\u001b[49m\u001b[47m\u001b[30mA\u001b[39m\u001b[49m...\u001b[47m\u001b[30mA\u001b[39m\u001b[49m\u001b[47m\u001b[30mT\u001b[39m\u001b[49m\u001b[47m\u001b[30mG\u001b[39m\u001b[49m\u001b[47m\u001b[30mA\u001b[39m\u001b[49m\u001b[47m\u001b[30mG\u001b[39m\u001b[49m\u001b[47m\u001b[30mA\u001b[39m\u001b[49m\u001b[47m\u001b[30mA\u001b[39m\u001b[49m\u001b[47m\u001b[30mC\u001b[39m\u001b[49m\u001b[47m\u001b[30mC\u001b[39m\u001b[49m\u001b[47m\u001b[30mT\u001b[39m\u001b[49m\u001b[47m\u001b[30mT\u001b[39m\u001b[49m\u001b[47m\u001b[30mC\u001b[39m\u001b[49m\u001b[47m\u001b[30mC\u001b[39m\u001b[49m\u001b[47m\u001b[30mA\u001b[39m\u001b[49m\u001b[47m\u001b[30mG\u001b[39m\u001b[49m\u001b[47m\u001b[30mA\u001b[39m\u001b[49m\u001b[47m\u001b[30mG\u001b[39m\u001b[49m\u001b[47m\u001b[30mT\u001b[39m\u001b[49m\u001b[47m\u001b[30mC\u001b[39m\u001b[49m\u001b[47m\u001b[30mC\u001b[39m\u001b[49m\u001b[47m\u001b[30mA\u001b[39m\u001b[49m IMGT_A*01:01:01:06\n",
       "    ...   ... ...\n",
       "[26569] 11548 \u001b[47m\u001b[30mG\u001b[39m\u001b[49m\u001b[47m\u001b[30mC\u001b[39m\u001b[49m\u001b[47m\u001b[30mA\u001b[39m\u001b[49m\u001b[47m\u001b[30mT\u001b[39m\u001b[49m\u001b[47m\u001b[30mC\u001b[39m\u001b[49m\u001b[47m\u001b[30mC\u001b[39m\u001b[49m\u001b[47m\u001b[30mA\u001b[39m\u001b[49m\u001b[47m\u001b[30mC\u001b[39m\u001b[49m\u001b[47m\u001b[30mA\u001b[39m\u001b[49m\u001b[47m\u001b[30mG\u001b[39m\u001b[49m\u001b[47m\u001b[30mA\u001b[39m\u001b[49m\u001b[47m\u001b[30mA\u001b[39m\u001b[49m\u001b[47m\u001b[30mT\u001b[39m\u001b[49m\u001b[47m\u001b[30mC\u001b[39m\u001b[49m\u001b[47m\u001b[30mA\u001b[39m\u001b[49m\u001b[47m\u001b[30mC\u001b[39m\u001b[49m\u001b[47m\u001b[30mA\u001b[39m\u001b[49m\u001b[47m\u001b[30mT\u001b[39m\u001b[49m\u001b[47m\u001b[30mT\u001b[39m\u001b[49m\u001b[47m\u001b[30mT\u001b[39m\u001b[49m\u001b[47m\u001b[30mT\u001b[39m\u001b[49m...\u001b[47m\u001b[30mT\u001b[39m\u001b[49m\u001b[47m\u001b[30mT\u001b[39m\u001b[49m\u001b[47m\u001b[30mT\u001b[39m\u001b[49m\u001b[47m\u001b[30mC\u001b[39m\u001b[49m\u001b[47m\u001b[30mT\u001b[39m\u001b[49m\u001b[47m\u001b[30mC\u001b[39m\u001b[49m\u001b[47m\u001b[30mA\u001b[39m\u001b[49m\u001b[47m\u001b[30mA\u001b[39m\u001b[49m\u001b[47m\u001b[30mA\u001b[39m\u001b[49m\u001b[47m\u001b[30mG\u001b[39m\u001b[49m\u001b[47m\u001b[30mA\u001b[39m\u001b[49m\u001b[47m\u001b[30mT\u001b[39m\u001b[49m\u001b[47m\u001b[30mG\u001b[39m\u001b[49m\u001b[47m\u001b[30mG\u001b[39m\u001b[49m\u001b[47m\u001b[30mA\u001b[39m\u001b[49m\u001b[47m\u001b[30mG\u001b[39m\u001b[49m\u001b[47m\u001b[30mT\u001b[39m\u001b[49m\u001b[47m\u001b[30mT\u001b[39m\u001b[49m\u001b[47m\u001b[30mA\u001b[39m\u001b[49m\u001b[47m\u001b[30mA\u001b[39m\u001b[49m\u001b[47m\u001b[30mA\u001b[39m\u001b[49m IMGT_DRB1*16:66:m...\n",
       "[26570] 11548 \u001b[47m\u001b[30mG\u001b[39m\u001b[49m\u001b[47m\u001b[30mC\u001b[39m\u001b[49m\u001b[47m\u001b[30mA\u001b[39m\u001b[49m\u001b[47m\u001b[30mT\u001b[39m\u001b[49m\u001b[47m\u001b[30mC\u001b[39m\u001b[49m\u001b[47m\u001b[30mC\u001b[39m\u001b[49m\u001b[47m\u001b[30mA\u001b[39m\u001b[49m\u001b[47m\u001b[30mC\u001b[39m\u001b[49m\u001b[47m\u001b[30mA\u001b[39m\u001b[49m\u001b[47m\u001b[30mG\u001b[39m\u001b[49m\u001b[47m\u001b[30mA\u001b[39m\u001b[49m\u001b[47m\u001b[30mA\u001b[39m\u001b[49m\u001b[47m\u001b[30mT\u001b[39m\u001b[49m\u001b[47m\u001b[30mC\u001b[39m\u001b[49m\u001b[47m\u001b[30mA\u001b[39m\u001b[49m\u001b[47m\u001b[30mC\u001b[39m\u001b[49m\u001b[47m\u001b[30mA\u001b[39m\u001b[49m\u001b[47m\u001b[30mT\u001b[39m\u001b[49m\u001b[47m\u001b[30mT\u001b[39m\u001b[49m\u001b[47m\u001b[30mT\u001b[39m\u001b[49m\u001b[47m\u001b[30mT\u001b[39m\u001b[49m...\u001b[47m\u001b[30mT\u001b[39m\u001b[49m\u001b[47m\u001b[30mT\u001b[39m\u001b[49m\u001b[47m\u001b[30mT\u001b[39m\u001b[49m\u001b[47m\u001b[30mC\u001b[39m\u001b[49m\u001b[47m\u001b[30mT\u001b[39m\u001b[49m\u001b[47m\u001b[30mC\u001b[39m\u001b[49m\u001b[47m\u001b[30mA\u001b[39m\u001b[49m\u001b[47m\u001b[30mA\u001b[39m\u001b[49m\u001b[47m\u001b[30mA\u001b[39m\u001b[49m\u001b[47m\u001b[30mG\u001b[39m\u001b[49m\u001b[47m\u001b[30mA\u001b[39m\u001b[49m\u001b[47m\u001b[30mT\u001b[39m\u001b[49m\u001b[47m\u001b[30mG\u001b[39m\u001b[49m\u001b[47m\u001b[30mG\u001b[39m\u001b[49m\u001b[47m\u001b[30mA\u001b[39m\u001b[49m\u001b[47m\u001b[30mG\u001b[39m\u001b[49m\u001b[47m\u001b[30mT\u001b[39m\u001b[49m\u001b[47m\u001b[30mT\u001b[39m\u001b[49m\u001b[47m\u001b[30mA\u001b[39m\u001b[49m\u001b[47m\u001b[30mA\u001b[39m\u001b[49m\u001b[47m\u001b[30mA\u001b[39m\u001b[49m IMGT_DRB1*16:67:m...\n",
       "[26571] 11547 \u001b[47m\u001b[30mG\u001b[39m\u001b[49m\u001b[47m\u001b[30mC\u001b[39m\u001b[49m\u001b[47m\u001b[30mA\u001b[39m\u001b[49m\u001b[47m\u001b[30mT\u001b[39m\u001b[49m\u001b[47m\u001b[30mC\u001b[39m\u001b[49m\u001b[47m\u001b[30mC\u001b[39m\u001b[49m\u001b[47m\u001b[30mA\u001b[39m\u001b[49m\u001b[47m\u001b[30mC\u001b[39m\u001b[49m\u001b[47m\u001b[30mA\u001b[39m\u001b[49m\u001b[47m\u001b[30mG\u001b[39m\u001b[49m\u001b[47m\u001b[30mA\u001b[39m\u001b[49m\u001b[47m\u001b[30mA\u001b[39m\u001b[49m\u001b[47m\u001b[30mT\u001b[39m\u001b[49m\u001b[47m\u001b[30mC\u001b[39m\u001b[49m\u001b[47m\u001b[30mA\u001b[39m\u001b[49m\u001b[47m\u001b[30mC\u001b[39m\u001b[49m\u001b[47m\u001b[30mA\u001b[39m\u001b[49m\u001b[47m\u001b[30mT\u001b[39m\u001b[49m\u001b[47m\u001b[30mT\u001b[39m\u001b[49m\u001b[47m\u001b[30mT\u001b[39m\u001b[49m\u001b[47m\u001b[30mT\u001b[39m\u001b[49m...\u001b[47m\u001b[30mT\u001b[39m\u001b[49m\u001b[47m\u001b[30mT\u001b[39m\u001b[49m\u001b[47m\u001b[30mT\u001b[39m\u001b[49m\u001b[47m\u001b[30mC\u001b[39m\u001b[49m\u001b[47m\u001b[30mT\u001b[39m\u001b[49m\u001b[47m\u001b[30mC\u001b[39m\u001b[49m\u001b[47m\u001b[30mA\u001b[39m\u001b[49m\u001b[47m\u001b[30mA\u001b[39m\u001b[49m\u001b[47m\u001b[30mA\u001b[39m\u001b[49m\u001b[47m\u001b[30mG\u001b[39m\u001b[49m\u001b[47m\u001b[30mA\u001b[39m\u001b[49m\u001b[47m\u001b[30mT\u001b[39m\u001b[49m\u001b[47m\u001b[30mG\u001b[39m\u001b[49m\u001b[47m\u001b[30mG\u001b[39m\u001b[49m\u001b[47m\u001b[30mA\u001b[39m\u001b[49m\u001b[47m\u001b[30mG\u001b[39m\u001b[49m\u001b[47m\u001b[30mT\u001b[39m\u001b[49m\u001b[47m\u001b[30mT\u001b[39m\u001b[49m\u001b[47m\u001b[30mA\u001b[39m\u001b[49m\u001b[47m\u001b[30mA\u001b[39m\u001b[49m\u001b[47m\u001b[30mA\u001b[39m\u001b[49m IMGT_DRB1*16:68:m...\n",
       "[26572] 11548 \u001b[47m\u001b[30mG\u001b[39m\u001b[49m\u001b[47m\u001b[30mC\u001b[39m\u001b[49m\u001b[47m\u001b[30mA\u001b[39m\u001b[49m\u001b[47m\u001b[30mT\u001b[39m\u001b[49m\u001b[47m\u001b[30mC\u001b[39m\u001b[49m\u001b[47m\u001b[30mC\u001b[39m\u001b[49m\u001b[47m\u001b[30mA\u001b[39m\u001b[49m\u001b[47m\u001b[30mC\u001b[39m\u001b[49m\u001b[47m\u001b[30mA\u001b[39m\u001b[49m\u001b[47m\u001b[30mG\u001b[39m\u001b[49m\u001b[47m\u001b[30mA\u001b[39m\u001b[49m\u001b[47m\u001b[30mA\u001b[39m\u001b[49m\u001b[47m\u001b[30mT\u001b[39m\u001b[49m\u001b[47m\u001b[30mC\u001b[39m\u001b[49m\u001b[47m\u001b[30mA\u001b[39m\u001b[49m\u001b[47m\u001b[30mC\u001b[39m\u001b[49m\u001b[47m\u001b[30mA\u001b[39m\u001b[49m\u001b[47m\u001b[30mT\u001b[39m\u001b[49m\u001b[47m\u001b[30mT\u001b[39m\u001b[49m\u001b[47m\u001b[30mT\u001b[39m\u001b[49m\u001b[47m\u001b[30mT\u001b[39m\u001b[49m...\u001b[47m\u001b[30mT\u001b[39m\u001b[49m\u001b[47m\u001b[30mT\u001b[39m\u001b[49m\u001b[47m\u001b[30mT\u001b[39m\u001b[49m\u001b[47m\u001b[30mC\u001b[39m\u001b[49m\u001b[47m\u001b[30mT\u001b[39m\u001b[49m\u001b[47m\u001b[30mC\u001b[39m\u001b[49m\u001b[47m\u001b[30mA\u001b[39m\u001b[49m\u001b[47m\u001b[30mA\u001b[39m\u001b[49m\u001b[47m\u001b[30mA\u001b[39m\u001b[49m\u001b[47m\u001b[30mG\u001b[39m\u001b[49m\u001b[47m\u001b[30mA\u001b[39m\u001b[49m\u001b[47m\u001b[30mT\u001b[39m\u001b[49m\u001b[47m\u001b[30mG\u001b[39m\u001b[49m\u001b[47m\u001b[30mG\u001b[39m\u001b[49m\u001b[47m\u001b[30mA\u001b[39m\u001b[49m\u001b[47m\u001b[30mG\u001b[39m\u001b[49m\u001b[47m\u001b[30mT\u001b[39m\u001b[49m\u001b[47m\u001b[30mT\u001b[39m\u001b[49m\u001b[47m\u001b[30mA\u001b[39m\u001b[49m\u001b[47m\u001b[30mA\u001b[39m\u001b[49m\u001b[47m\u001b[30mA\u001b[39m\u001b[49m IMGT_DRB1*16:69:m...\n",
       "[26573] 11548 \u001b[47m\u001b[30mG\u001b[39m\u001b[49m\u001b[47m\u001b[30mC\u001b[39m\u001b[49m\u001b[47m\u001b[30mA\u001b[39m\u001b[49m\u001b[47m\u001b[30mT\u001b[39m\u001b[49m\u001b[47m\u001b[30mC\u001b[39m\u001b[49m\u001b[47m\u001b[30mC\u001b[39m\u001b[49m\u001b[47m\u001b[30mA\u001b[39m\u001b[49m\u001b[47m\u001b[30mC\u001b[39m\u001b[49m\u001b[47m\u001b[30mA\u001b[39m\u001b[49m\u001b[47m\u001b[30mG\u001b[39m\u001b[49m\u001b[47m\u001b[30mA\u001b[39m\u001b[49m\u001b[47m\u001b[30mA\u001b[39m\u001b[49m\u001b[47m\u001b[30mT\u001b[39m\u001b[49m\u001b[47m\u001b[30mC\u001b[39m\u001b[49m\u001b[47m\u001b[30mA\u001b[39m\u001b[49m\u001b[47m\u001b[30mC\u001b[39m\u001b[49m\u001b[47m\u001b[30mA\u001b[39m\u001b[49m\u001b[47m\u001b[30mT\u001b[39m\u001b[49m\u001b[47m\u001b[30mT\u001b[39m\u001b[49m\u001b[47m\u001b[30mT\u001b[39m\u001b[49m\u001b[47m\u001b[30mT\u001b[39m\u001b[49m...\u001b[47m\u001b[30mT\u001b[39m\u001b[49m\u001b[47m\u001b[30mT\u001b[39m\u001b[49m\u001b[47m\u001b[30mT\u001b[39m\u001b[49m\u001b[47m\u001b[30mC\u001b[39m\u001b[49m\u001b[47m\u001b[30mT\u001b[39m\u001b[49m\u001b[47m\u001b[30mC\u001b[39m\u001b[49m\u001b[47m\u001b[30mA\u001b[39m\u001b[49m\u001b[47m\u001b[30mA\u001b[39m\u001b[49m\u001b[47m\u001b[30mA\u001b[39m\u001b[49m\u001b[47m\u001b[30mG\u001b[39m\u001b[49m\u001b[47m\u001b[30mA\u001b[39m\u001b[49m\u001b[47m\u001b[30mT\u001b[39m\u001b[49m\u001b[47m\u001b[30mG\u001b[39m\u001b[49m\u001b[47m\u001b[30mG\u001b[39m\u001b[49m\u001b[47m\u001b[30mA\u001b[39m\u001b[49m\u001b[47m\u001b[30mG\u001b[39m\u001b[49m\u001b[47m\u001b[30mT\u001b[39m\u001b[49m\u001b[47m\u001b[30mT\u001b[39m\u001b[49m\u001b[47m\u001b[30mA\u001b[39m\u001b[49m\u001b[47m\u001b[30mA\u001b[39m\u001b[49m\u001b[47m\u001b[30mA\u001b[39m\u001b[49m IMGT_DRB1*16:71:m..."
      ]
     },
     "metadata": {},
     "output_type": "display_data"
    },
    {
     "data": {
      "text/html": [
       "<ol>\n",
       "\t<li>'A-01-01'</li>\n",
       "\t<li>'A-01-01'</li>\n",
       "\t<li>'A-01-01'</li>\n",
       "\t<li>'A-01-01'</li>\n",
       "</ol>\n"
      ],
      "text/latex": [
       "\\begin{enumerate}\n",
       "\\item 'A-01-01'\n",
       "\\item 'A-01-01'\n",
       "\\item 'A-01-01'\n",
       "\\item 'A-01-01'\n",
       "\\end{enumerate}\n"
      ],
      "text/markdown": [
       "1. 'A-01-01'\n",
       "2. 'A-01-01'\n",
       "3. 'A-01-01'\n",
       "4. 'A-01-01'\n",
       "\n",
       "\n"
      ],
      "text/plain": [
       "[[1]]\n",
       "[1] \"A-01-01\"\n",
       "\n",
       "[[2]]\n",
       "[1] \"A-01-01\"\n",
       "\n",
       "[[3]]\n",
       "[1] \"A-01-01\"\n",
       "\n",
       "[[4]]\n",
       "[1] \"A-01-01\"\n"
      ]
     },
     "metadata": {},
     "output_type": "display_data"
    },
    {
     "data": {
      "text/html": [
       "<ol>\n",
       "\t<li>'DRB1-16-67'</li>\n",
       "\t<li>'DRB1-16-68'</li>\n",
       "\t<li>'DRB1-16-69'</li>\n",
       "\t<li>'DRB1-16-71'</li>\n",
       "</ol>\n"
      ],
      "text/latex": [
       "\\begin{enumerate}\n",
       "\\item 'DRB1-16-67'\n",
       "\\item 'DRB1-16-68'\n",
       "\\item 'DRB1-16-69'\n",
       "\\item 'DRB1-16-71'\n",
       "\\end{enumerate}\n"
      ],
      "text/markdown": [
       "1. 'DRB1-16-67'\n",
       "2. 'DRB1-16-68'\n",
       "3. 'DRB1-16-69'\n",
       "4. 'DRB1-16-71'\n",
       "\n",
       "\n"
      ],
      "text/plain": [
       "[[1]]\n",
       "[1] \"DRB1-16-67\"\n",
       "\n",
       "[[2]]\n",
       "[1] \"DRB1-16-68\"\n",
       "\n",
       "[[3]]\n",
       "[1] \"DRB1-16-69\"\n",
       "\n",
       "[[4]]\n",
       "[1] \"DRB1-16-71\"\n"
      ]
     },
     "metadata": {},
     "output_type": "display_data"
    }
   ],
   "source": [
    "database\n",
    "head(formatted_database_names, 4)\n",
    "tail(formatted_database_names, 4)"
   ]
  },
  {
   "cell_type": "markdown",
   "id": "a72fd4a5-5bf0-451b-83de-5f30cd29f448",
   "metadata": {},
   "source": [
    "## Example in mock cohort"
   ]
  },
  {
   "cell_type": "code",
   "execution_count": 5,
   "id": "351d10eb-e593-4e15-9974-794434ef3d29",
   "metadata": {},
   "outputs": [],
   "source": [
    "personalized_alleles_path = '../example_data/mock_cohort_alleles/' \n",
    "out = '../example_outputs/personalized_references/'\n",
    "if (! dir.exists(out)) { dir.create(out) }\n",
    "make_references(personalized_alleles_path, sequence_database_path, out)"
   ]
  },
  {
   "cell_type": "markdown",
   "id": "84b05d3f-489c-4255-b983-4c5857eb7e82",
   "metadata": {},
   "source": [
    "## All done!"
   ]
  },
  {
   "cell_type": "code",
   "execution_count": 6,
   "id": "1b4fcf12-9dde-4538-9004-5655f7c029fa",
   "metadata": {},
   "outputs": [
    {
     "data": {
      "text/plain": [
       "R version 4.0.5 (2021-03-31)\n",
       "Platform: x86_64-conda-linux-gnu (64-bit)\n",
       "Running under: Red Hat Enterprise Linux Server release 6.5 (Santiago)\n",
       "\n",
       "Matrix products: default\n",
       "BLAS/LAPACK: /PHShome/jbk37/anaconda3/envs/hla_new/lib/libopenblasp-r0.3.18.so\n",
       "\n",
       "locale:\n",
       " [1] LC_CTYPE=en_US.UTF-8       LC_NUMERIC=C              \n",
       " [3] LC_TIME=en_US.UTF-8        LC_COLLATE=en_US.UTF-8    \n",
       " [5] LC_MONETARY=en_US.UTF-8    LC_MESSAGES=en_US.UTF-8   \n",
       " [7] LC_PAPER=en_US.UTF-8       LC_NAME=C                 \n",
       " [9] LC_ADDRESS=C               LC_TELEPHONE=C            \n",
       "[11] LC_MEASUREMENT=en_US.UTF-8 LC_IDENTIFICATION=C       \n",
       "\n",
       "attached base packages:\n",
       "[1] stats4    parallel  stats     graphics  grDevices utils     datasets \n",
       "[8] methods   base     \n",
       "\n",
       "other attached packages:\n",
       " [1] forcats_0.5.1       purrr_0.3.4         readr_2.1.2        \n",
       " [4] tidyr_1.2.0         tibble_3.1.6        ggplot2_3.3.5      \n",
       " [7] tidyverse_1.3.1     stringr_1.4.0       dplyr_1.0.8        \n",
       "[10] Biostrings_2.58.0   XVector_0.30.0      IRanges_2.24.1     \n",
       "[13] S4Vectors_0.28.1    BiocGenerics_0.36.1\n",
       "\n",
       "loaded via a namespace (and not attached):\n",
       " [1] Rcpp_1.0.9       lubridate_1.8.0  assertthat_0.2.1 digest_0.6.29   \n",
       " [5] utf8_1.2.2       IRdisplay_1.1    R6_2.5.1         cellranger_1.1.0\n",
       " [9] repr_1.1.4       backports_1.4.1  reprex_2.0.1     evaluate_0.15   \n",
       "[13] httr_1.4.2       pillar_1.7.0     zlibbioc_1.36.0  rlang_1.0.2     \n",
       "[17] uuid_1.0-4       readxl_1.3.1     rstudioapi_0.13  munsell_0.5.0   \n",
       "[21] broom_0.7.12     compiler_4.0.5   modelr_0.1.8     pkgconfig_2.0.3 \n",
       "[25] base64enc_0.1-3  htmltools_0.5.2  tidyselect_1.1.2 fansi_1.0.2     \n",
       "[29] withr_2.5.0      crayon_1.5.0     tzdb_0.2.0       dbplyr_2.1.1    \n",
       "[33] grid_4.0.5       jsonlite_1.8.0   gtable_0.3.0     lifecycle_1.0.1 \n",
       "[37] DBI_1.1.2        magrittr_2.0.2   scales_1.1.1     cli_3.6.0       \n",
       "[41] stringi_1.7.8    fs_1.5.2         xml2_1.3.3       ellipsis_0.3.2  \n",
       "[45] generics_0.1.2   vctrs_0.3.8      IRkernel_1.3     tools_4.0.5     \n",
       "[49] glue_1.6.2       hms_1.1.1        fastmap_1.1.0    colorspace_2.0-3\n",
       "[53] rvest_1.0.2      pbdZMQ_0.3-7     haven_2.4.3     "
      ]
     },
     "metadata": {},
     "output_type": "display_data"
    }
   ],
   "source": [
    "sessionInfo()"
   ]
  }
 ],
 "metadata": {
  "kernelspec": {
   "display_name": "R_4.0.5",
   "language": "R",
   "name": "r_4.0.5"
  },
  "language_info": {
   "codemirror_mode": "r",
   "file_extension": ".r",
   "mimetype": "text/x-r-source",
   "name": "R",
   "pygments_lexer": "r",
   "version": "4.0.5"
  }
 },
 "nbformat": 4,
 "nbformat_minor": 5
}
